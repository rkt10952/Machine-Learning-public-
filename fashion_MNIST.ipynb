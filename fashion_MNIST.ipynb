{
  "nbformat": 4,
  "nbformat_minor": 0,
  "metadata": {
    "colab": {
      "name": "fashion MNIST.ipynb",
      "version": "0.3.2",
      "provenance": [],
      "include_colab_link": true
    },
    "kernelspec": {
      "name": "python3",
      "display_name": "Python 3"
    },
    "accelerator": "GPU"
  },
  "cells": [
    {
      "cell_type": "markdown",
      "metadata": {
        "id": "view-in-github",
        "colab_type": "text"
      },
      "source": [
        "<a href=\"https://colab.research.google.com/github/rkt10952/Machine-Learning-public-/blob/master/fashion_MNIST.ipynb\" target=\"_parent\"><img src=\"https://colab.research.google.com/assets/colab-badge.svg\" alt=\"Open In Colab\"/></a>"
      ]
    },
    {
      "metadata": {
        "id": "G8njkyqtP-LK",
        "colab_type": "code",
        "colab": {}
      },
      "cell_type": "code",
      "source": [
        "import tensorflow as t\n",
        "import numpy as np\n",
        "from tensorflow import keras"
      ],
      "execution_count": 0,
      "outputs": []
    },
    {
      "metadata": {
        "id": "oI2_xuM4jZ_s",
        "colab_type": "text"
      },
      "cell_type": "markdown",
      "source": [
        "creating callbacks"
      ]
    },
    {
      "metadata": {
        "id": "hrJMIyQYjdMD",
        "colab_type": "code",
        "colab": {}
      },
      "cell_type": "code",
      "source": [
        "class myCallback(tf.keras.callbacks.Callback):\n",
        "  def on_epoch_end(Self,epoch,logs={}):\n",
        "    if(logs.get('acc')>0.9):\n",
        "      print('95% accuracy reached abort training')\n",
        "      Self.model.stop_training = True"
      ],
      "execution_count": 0,
      "outputs": []
    },
    {
      "metadata": {
        "id": "RhvOhFwFcGne",
        "colab_type": "code",
        "colab": {}
      },
      "cell_type": "code",
      "source": [
        "fashion_mnist = keras.datasets.fashion_mnist\n",
        "(train_images,train_labels),(test_images,test_lables)=fashion_mnist.load_data()"
      ],
      "execution_count": 0,
      "outputs": []
    },
    {
      "metadata": {
        "id": "sx89VGEengO-",
        "colab_type": "text"
      },
      "cell_type": "markdown",
      "source": [
        "viewing sata sample"
      ]
    },
    {
      "metadata": {
        "id": "ljWqyFcbnjG8",
        "colab_type": "code",
        "colab": {
          "base_uri": "https://localhost:8080/",
          "height": 286
        },
        "outputId": "629817d4-1dd8-4bc7-ff38-3380c83b6156"
      },
      "cell_type": "code",
      "source": [
        "import matplotlib.pyplot as plt\n",
        "plt.imshow(train_images[0])"
      ],
      "execution_count": 44,
      "outputs": [
        {
          "output_type": "execute_result",
          "data": {
            "text/plain": [
              "<matplotlib.image.AxesImage at 0x7f7030cbd7b8>"
            ]
          },
          "metadata": {
            "tags": []
          },
          "execution_count": 44
        },
        {
          "output_type": "display_data",
          "data": {
            "image/png": "[encoded data removed]",
            "text/plain": [
              "<Figure size 432x288 with 1 Axes>"
            ]
          },
          "metadata": {
            "tags": []
          }
        }
      ]
    },
    {
      "metadata": {
        "id": "oSuoLeBVdkOy",
        "colab_type": "text"
      },
      "cell_type": "markdown",
      "source": [
        "Normalizing our dataset"
      ]
    },
    {
      "metadata": {
        "id": "Ft_aV8mHduXU",
        "colab_type": "code",
        "colab": {}
      },
      "cell_type": "code",
      "source": [
        "train_images = train_images.reshape(60000,28,28,1)\n",
        "test_images = test_images.reshape(10000,28,28,1)\n",
        "train_images,test_images=train_images/225.0,test_images/255"
      ],
      "execution_count": 0,
      "outputs": []
    },
    {
      "metadata": {
        "id": "AJ3eSWCBcu5s",
        "colab_type": "text"
      },
      "cell_type": "markdown",
      "source": [
        ""
      ]
    },
    {
      "metadata": {
        "id": "QfTHDPQ5d7eC",
        "colab_type": "text"
      },
      "cell_type": "markdown",
      "source": [
        "defining our model"
      ]
    },
    {
      "metadata": {
        "id": "W-PzMqOfeGIY",
        "colab_type": "code",
        "colab": {
          "base_uri": "https://localhost:8080/",
          "height": 306
        },
        "outputId": "09d8578a-5efa-4322-c10e-bac9ff77aaa9"
      },
      "cell_type": "code",
      "source": [
        "model = keras.Sequential([\n",
        "    keras.layers.Conv2D(64,(3,3),activation = 'relu',input_shape=(28,28,1)),\n",
        "    keras.layers.MaxPooling2D(2,2),\n",
        "    \n",
        "    keras.layers.Flatten(),\n",
        "    keras.layers.Dense(128,activation = 'relu'),\n",
        "    keras.layers.Dense(10,activation = 'softmax')\n",
        "])\n",
        "model.summary()"
      ],
      "execution_count": 53,
      "outputs": [
        {
          "output_type": "stream",
          "text": [
            "_________________________________________________________________\n",
            "Layer (type)                 Output Shape              Param #   \n",
            "=================================================================\n",
            "conv2d_8 (Conv2D)            (None, 26, 26, 64)        640       \n",
            "_________________________________________________________________\n",
            "max_pooling2d_7 (MaxPooling2 (None, 13, 13, 64)        0         \n",
            "_________________________________________________________________\n",
            "flatten_9 (Flatten)          (None, 10816)             0         \n",
            "_________________________________________________________________\n",
            "dense_16 (Dense)             (None, 128)               1384576   \n",
            "_________________________________________________________________\n",
            "dense_17 (Dense)             (None, 10)                1290      \n",
            "=================================================================\n",
            "Total params: 1,386,506\n",
            "Trainable params: 1,386,506\n",
            "Non-trainable params: 0\n",
            "_________________________________________________________________\n"
          ],
          "name": "stdout"
        }
      ]
    },
    {
      "metadata": {
        "id": "_IxOdVvuejlv",
        "colab_type": "text"
      },
      "cell_type": "markdown",
      "source": [
        "seeing our training images"
      ]
    },
    {
      "metadata": {
        "id": "S4dwiqiofHHH",
        "colab_type": "text"
      },
      "cell_type": "markdown",
      "source": [
        "compiling model with optimizer and loss function"
      ]
    },
    {
      "metadata": {
        "id": "J8GCO8LEfe5_",
        "colab_type": "code",
        "colab": {}
      },
      "cell_type": "code",
      "source": [
        "model.compile(optimizer = tf.train.AdamOptimizer(),\n",
        "             loss = 'sparse_categorical_crossentropy',\n",
        "             metrics = ['accuracy'])\n"
      ],
      "execution_count": 0,
      "outputs": []
    },
    {
      "metadata": {
        "id": "wBh9TZ0Wf7fY",
        "colab_type": "text"
      },
      "cell_type": "markdown",
      "source": [
        "training our model"
      ]
    },
    {
      "metadata": {
        "id": "JFHOTKwvgC5t",
        "colab_type": "code",
        "colab": {
          "base_uri": "https://localhost:8080/",
          "height": 255
        },
        "outputId": "670376b3-e124-4886-b24a-e8df44cc0e0e"
      },
      "cell_type": "code",
      "source": [
        "callbacks = myCallback()\n",
        "model.fit(train_images,train_labels,epochs = 50,callbacks = [callbacks])"
      ],
      "execution_count": 55,
      "outputs": [
        {
          "output_type": "stream",
          "text": [
            "Epoch 1/50\n",
            "60000/60000 [==============================] - 6s 101us/sample - loss: 0.3736 - acc: 0.8664\n",
            "Epoch 2/50\n",
            "60000/60000 [==============================] - 6s 98us/sample - loss: 0.2506 - acc: 0.9081\n",
            "Epoch 3/50\n",
            "60000/60000 [==============================] - 6s 97us/sample - loss: 0.2047 - acc: 0.9240\n",
            "Epoch 4/50\n",
            "60000/60000 [==============================] - 6s 98us/sample - loss: 0.1716 - acc: 0.9356\n",
            "Epoch 5/50\n",
            "60000/60000 [==============================] - 6s 97us/sample - loss: 0.1415 - acc: 0.9469\n",
            "Epoch 6/50\n",
            "59744/60000 [============================>.] - ETA: 0s - loss: 0.1184 - acc: 0.955995% accuracy reached abort training\n",
            "60000/60000 [==============================] - 6s 97us/sample - loss: 0.1186 - acc: 0.9559\n"
          ],
          "name": "stdout"
        },
        {
          "output_type": "execute_result",
          "data": {
            "text/plain": [
              "<tensorflow.python.keras.callbacks.History at 0x7f7030cfcd68>"
            ]
          },
          "metadata": {
            "tags": []
          },
          "execution_count": 55
        }
      ]
    },
    {
      "metadata": {
        "id": "ix2Z7jw8gMQy",
        "colab_type": "text"
      },
      "cell_type": "markdown",
      "source": [
        "evaluating our model"
      ]
    },
    {
      "metadata": {
        "id": "ONCr6fm0gshk",
        "colab_type": "code",
        "colab": {
          "base_uri": "https://localhost:8080/",
          "height": 51
        },
        "outputId": "db907eb3-ee95-4341-a6ad-404a5be503d2"
      },
      "cell_type": "code",
      "source": [
        "model.evaluate(test_images,test_lables)"
      ],
      "execution_count": 56,
      "outputs": [
        {
          "output_type": "stream",
          "text": [
            "10000/10000 [==============================] - 1s 76us/sample - loss: 0.2597 - acc: 0.9142\n"
          ],
          "name": "stdout"
        },
        {
          "output_type": "execute_result",
          "data": {
            "text/plain": [
              "[0.2597062891066074, 0.9142]"
            ]
          },
          "metadata": {
            "tags": []
          },
          "execution_count": 56
        }
      ]
    },
    {
      "metadata": {
        "id": "25quEG13gxep",
        "colab_type": "code",
        "colab": {}
      },
      "cell_type": "code",
      "source": [
        ""
      ],
      "execution_count": 0,
      "outputs": []
    }
  ]
}